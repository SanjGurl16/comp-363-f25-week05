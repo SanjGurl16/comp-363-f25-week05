{
 "cells": [
  {
   "cell_type": "markdown",
   "id": "affe53ce",
   "metadata": {},
   "source": [
    "# Week 05 Assignment: More Dynamic Programming"
   ]
  },
  {
   "cell_type": "markdown",
   "id": "3239085f",
   "metadata": {},
   "source": [
    "## String alignment\n",
    "\n",
    "What is the best way to align the strings `CYCLE` and `BICYCLE`? Typographically, in left-to-right scripts, we tend to align to the left, like so:\n",
    "```\n",
    "CYCLE--\n",
    "BICYCLE\n",
    "```\n",
    "The dashes (-) indicates a gap inserted to ensure the proper stretching for alignment.\n",
    "Computationally, however, we may be interested in maximizing overlap of similar characters, and so the alignment \n",
    "```\n",
    "--CYCLE\n",
    "BICYCLE\n",
    "```\n",
    "may be more preferrable. For strings `CRANE` and `RAIN` we may have more than one alignment:\n",
    "```\n",
    "CRANE            CRA-NE\n",
    "-RAIN            -RAIN-\n",
    "```\n",
    "The first option aligns as many letters as possible, while minimizing the use of spacing. The second option maximizes the number of aligned characters at the cost of additional spacing. Which of the two alignments is best? This depends on our priorities. And our priorities can be quantified in a way that determines the optimal alignment of two strings.\n",
    "\n",
    "Let's assume that every time we use a space we pay a penalty $a_s<0$. Also everytime we have two characters that do not match, we also pay a penalty $a_\\text{mismatch} <0$. And finally, when we have two characters matching, we pay no penalty $a_\\text{match}\\geq 0$. These penalties can be summarized as a function of two characters $x$ and $y$ stacked on top of eachother.\n",
    "\n",
    "$$\n",
    "a_{xy} =\n",
    "\\begin{cases}\n",
    "  <0,\\ \\text{if}\\ x \\neq y\\ \\neq \\text{space} \\\\\n",
    "  <0,\\ \\text{if}\\ x = \\text{space} \\neq y \\\\\n",
    "  <0,\\ \\text{if}\\ y = \\text{space} \\neq x  \\\\\n",
    "  \\geq 0,\\ \\text{if}\\ x = y\n",
    "\\end{cases}\n",
    "$$\n",
    "\n",
    "There is no penalty for a space stacked over a space.\n",
    "\n",
    "A simple penalty function that favors alignments even at the cost of extra spaces, may look like:\n",
    "\n",
    "$$\n",
    "a_{xy} =\n",
    "\\begin{cases}\n",
    "  -5,\\ \\text{if}\\ x \\neq y\\ \\neq \\text{space} \\\\\n",
    "  -1,\\ \\text{if}\\ (x = \\text{space} \\neq y)\\ \\text{or}\\ (y = \\text{space} \\neq x )\\\\\n",
    "  1,\\ \\text{if}\\ x = y\n",
    "\\end{cases}\n",
    "$$\n",
    "\n",
    "For small enough strings, we can find the optimal alignment relatively easy, even with brute force. For two strings with $m$ and $n$ characters respectively, there are \n",
    "\n",
    "$$\n",
    "{\\binom{m+n}{n}} = \\dfrac{(m+n)!}{m!n!}\n",
    "$$\n",
    "\n",
    "possible alignments. If $m=100$ and $m=5$, that's \n",
    "\n",
    "$$\n",
    "\\binom{105}{5}=\\dfrac{105!}{5!(105-5)!}=96,560,646\n",
    "$$\n",
    "\n",
    "and even a laptop can go through them in a few seconds. When the strings get longer, for example $m=10,000$ and $n=500$, the number of alignments becomes astronomical, approximately $1.8\\times 10^{871}$ and there is no time to compute so many cases."
   ]
  },
  {
   "cell_type": "markdown",
   "id": "ad8a1c47",
   "metadata": {},
   "source": [
    "## Optimal substructure in string alignment\n",
    "\n",
    "Consider two strings\n",
    "\n",
    "\\begin{align*}\n",
    "X_m & = x_1 x_2 \\ldots x_m \\\\\n",
    "Y_n & = y_1 y_2 \\ldots y_n\n",
    "\\end{align*}\n",
    "whose lengths $m,n$ are not necessarily equal. Their optimal alignment is a pair of strings $\\bar{X}$ and $\\bar{Y}$ with equal length $L\\geq\\max{(m,n)}$ such that\n",
    "\n",
    "$$\n",
    "{\\arg\\min} \\sum_{\\begin{array}{c}\\bar x_i\\in\\bar X\\\\ \\bar y_j\\in\\bar Y\\end{array}} a_{\\bar x_i\\ \\bar y_j}\n",
    "$$\n",
    "\n",
    "The strings we are interested in aligning typically represent genetic codes. Their length could be large enough to make brute force computation intractable. Finding the optimal alignment $(\\bar X, \\bar Y)$ is impossible in these cases.\n",
    "\n",
    "Instead imagine that the optimal alignment $(\\bar X, \\bar Y)$ is given to us. What would it look like? Both its strings have the same length $L\\geq\\max{(m,n)}$. We can further split the optimally aligned strings into two parts:\n",
    "\n",
    "\\begin{align*}\n",
    "\\bar X & = X' | \\bar x_L \\\\\n",
    "\\bar Y & = Y' | \\bar y_L\n",
    "\\end{align*}\n",
    "\n",
    "where $X', Y'$ are the first $L-1$ characters of the aligned strings and $\\bar x_L$, $\\bar y_L$ are the last characters of the aligned strings. Focusing on the last character of $(\\bar X, \\bar Y)$, we expect one of the following three cases, with respect to the contents of input strings $X_m$ and $Y_n$:\n",
    "\n",
    "$$\n",
    "\\left|\\begin{array}{c}\\bar x_L\\\\ \\bar y_L\\end{array}\\right|=\n",
    "\\begin{cases}\n",
    "\\left|\\begin{array}{c}x_m\\\\ y_n\\end{array}\\right|: \\text{the last character of}\\ X_m\\ \\text{over the last character of}\\ Y_n \\\\ \\\\\n",
    "\\left|\\begin{array}{c}x_m\\\\ -\\end{array}\\right|: \\text{the last character of}\\ X_m\\ \\text{over a space} \\\\ \\\\\n",
    "\\left|\\begin{array}{c}-\\\\ y_n\\end{array}\\right|: \\text{a space over the last character of}\\ Y_n\n",
    "\\end{cases}\n",
    "$$\n",
    "\n",
    "Each of the cases above reveals important properties for $X'$ and $Y'$, the immediately shorter substrings of the alignment $\\bar X$, $\\bar Y$."
   ]
  },
  {
   "cell_type": "markdown",
   "id": "3a53f5db",
   "metadata": {},
   "source": [
    "### Case for $\\left|\\begin{array}{c}\\bar x_L\\\\ \\bar y_L\\end{array}\\right|=\\left|\\begin{array}{c}x_m\\\\ y_n\\end{array}\\right|$\n",
    "\n",
    "When the last column of the optimal alignment $(\\bar X, \\bar Y)$ contains the last characters of the input strings $X_m$ and $Y_n$, then we know that the strings $X'$ and $Y'$ are an optimal alignment of the substrings $X_{m-1}$ and $Y_{n-1}$."
   ]
  },
  {
   "cell_type": "markdown",
   "id": "236e847c",
   "metadata": {},
   "source": [
    "### Case for $\\left|\\begin{array}{c}\\bar x_L\\\\ \\bar y_L\\end{array}\\right|=\\left|\\begin{array}{c}x_m\\\\ -\\end{array}\\right|$\n",
    "\n",
    "When the last column of the optimal alignment $(\\bar X, \\bar Y)$ contains the last character of the input string $X_m$ and a space, then we know that the strings $X'$ and $Y'$ are an optimal alignment of the substrings $X_{m-1}$ and $Y_{n}$."
   ]
  },
  {
   "cell_type": "markdown",
   "id": "b391315e",
   "metadata": {},
   "source": [
    "### Case for $\\left|\\begin{array}{c}\\bar x_L\\\\ \\bar y_L\\end{array}\\right|=\\left|\\begin{array}{c}-\\\\ y_n\\end{array}\\right|$\n",
    "\n",
    "When the last column of the optimal alignment $(\\bar X, \\bar Y)$ contains a space and the last character of the input string $Y_n$, then we know that the strings $X'$ and $Y'$ are an optimal alignment of the substrings $X_{m}$ and $Y_{n-1}$."
   ]
  },
  {
   "cell_type": "markdown",
   "id": "8b6c3ed7",
   "metadata": {},
   "source": [
    "## Computing penalties\n",
    "\n",
    "The total penalty for aligning strings $X_m$ and $Y_n$ is measured by some function $P(m,n)$. Based on the analysis above, the alignment of the strings can result from one of the following three cases:\n",
    "* The alignment of $X_{m-1}$ and $Y_{n-1}$ plus a the penalty associated with $x_m$ aligned with $y_n$; or,\n",
    "* The alignment of $X_{m-1}$ and $Y_{n}$ plus a the penalty associated with $x_m$ aligned with a space; or,\n",
    "* The alignment of $X_{m}$ and $Y_{n-1}$ plus a the penalty associated with a space aligned with $y_n$.\n",
    "\n",
    "Which of these cases prevails depends on the minimum cost associated with it. We can write:\n",
    "\n",
    "\\begin{align*}\n",
    "P(m,n) = \n",
    "    \\min( & P(m-1, n-1) + a_{x_m, y_n}, \\\\\n",
    "           & P(m-1, n) + a_\\text{space}, \\\\\n",
    "           & P(m, n-1)+ a_\\text{space} )\n",
    "\\end{align*}"
   ]
  },
  {
   "cell_type": "markdown",
   "id": "87a51118",
   "metadata": {},
   "source": []
  },
  {
   "cell_type": "markdown",
   "id": "b8bc1ce1",
   "metadata": {},
   "source": []
  },
  {
   "cell_type": "code",
   "execution_count": null,
   "id": "2d1dc010",
   "metadata": {
    "vscode": {
     "languageId": "plaintext"
    }
   },
   "outputs": [],
   "source": []
  },
  {
   "cell_type": "code",
   "execution_count": null,
   "id": "e218268b",
   "metadata": {
    "vscode": {
     "languageId": "plaintext"
    }
   },
   "outputs": [],
   "source": []
  },
  {
   "cell_type": "markdown",
   "id": "9b40d53c",
   "metadata": {},
   "source": []
  },
  {
   "cell_type": "markdown",
   "id": "73322986",
   "metadata": {},
   "source": []
  },
  {
   "cell_type": "markdown",
   "id": "3e8318ba",
   "metadata": {},
   "source": []
  },
  {
   "cell_type": "markdown",
   "id": "9e1d94f8",
   "metadata": {},
   "source": [
    "# Your assignment\n",
    "\n"
   ]
  },
  {
   "cell_type": "markdown",
   "id": "aa6e7a7d",
   "metadata": {},
   "source": [
    "### Reading\n",
    "\n",
    "\n",
    "* [Dynamic Programming](https://jeffe.cs.illinois.edu/teaching/algorithms/book/03-dynprog.pdf) (Chapter 3 from Jeff Erickson's book).\n",
    "* [Dynamic Programming](https://web.mit.edu/15.053/www/AMP-Chapter-11.pdf) (Chapter 11, from Applied Mathematical Programming, by Bradley, Hax, and Magnanti).\n",
    "* [The Theory of Dynamic Programming](https://www.rand.org/content/dam/rand/pubs/papers/2008/P550.pdf) Richard Bellman's 1954 paper summarizing his work.\n",
    "* [Dynamic Programming](https://people.eecs.berkeley.edu/~vazirani/algorithms/chap6.pdf) (Chapter 6 from Algorithms by Dasgupta, Papadimitriou, and Vazirani).'\n"
   ]
  },
  {
   "cell_type": "markdown",
   "id": "5a52687e",
   "metadata": {},
   "source": [
    "# Coding requirements\n",
    "\n",
    "- You may _not_ import modules in your code without explicit permission from Leo. Basically this means no `import` or `include` or similar statements in your programs.\n",
    "\n",
    "- You may _not_ use statements like `break` to end loops or `continue` and `pass` to move through branching.\n",
    "\n",
    "- When possible, methods that return values should have only one return statement. This is no longer a strict requirement (if you took COMP 271/272 with me, you know what I am talking about). In general, there is no good reason for a method with 20-25 lines of code at most to have multiple return statements.\n",
    "\n",
    "- Your code should be neat and well documented. If you are coding with Visual Studio Code, there are extensions that can do a great job formatting your program. For Python, consider installing the **Black Formatter** by Microsoft.\n",
    "\n",
    "- If you code in Python, learn to use type hints. They are annoying but useful.\n",
    "\n",
    "- Use a standard style guide for your code. I like Google's style guides for [Java](https://google.github.io/styleguide/javaguide.html) and [Python](https://google.github.io/styleguide/pyguide.html).\n",
    "\n",
    "- If you are using Jupyter notebooks, spend some time exploring MarkDown syntax for documentation and LaTeX for mathmetical typesetting. Good skills to have.\n",
    "\n",
    "# Finals week policy\n",
    "\n",
    "There is no final exam for the course. There will be a final assignemnt that will be published the week before finals and will be due the week of finals. Additionally, 8 students in the course will be invited randomly to a brief meeting with the instructor during the course's final exam slot. If you are selected for a brief meeting, we'll spend about 15 minutes during the final exam slot to review your work. This interview will cover coding practices based on your past assignments. It is meant as a checkpoint to ensure that you have internalized the work you submitted.\n"
   ]
  }
 ],
 "metadata": {
  "kernelspec": {
   "display_name": "Python 3",
   "language": "python",
   "name": "python3"
  },
  "language_info": {
   "codemirror_mode": {
    "name": "ipython",
    "version": 3
   },
   "file_extension": ".py",
   "mimetype": "text/x-python",
   "name": "python",
   "nbconvert_exporter": "python",
   "pygments_lexer": "ipython3",
   "version": "3.12.1"
  }
 },
 "nbformat": 4,
 "nbformat_minor": 5
}
